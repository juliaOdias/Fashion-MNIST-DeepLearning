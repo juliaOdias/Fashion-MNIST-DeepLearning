{
  "nbformat": 4,
  "nbformat_minor": 0,
  "metadata": {
    "colab": {
      "provenance": [],
      "toc_visible": true
    },
    "kernelspec": {
      "name": "python3",
      "display_name": "Python 3"
    },
    "language_info": {
      "name": "python"
    }
  },
  "cells": [
    {
      "cell_type": "markdown",
      "source": [
        "\n",
        "Imports\n",
        "\n",
        "\n"
      ],
      "metadata": {
        "id": "9w4Y4v85Xt_o"
      }
    },
    {
      "cell_type": "code",
      "source": [
        "import tensorflow\n",
        "from tensorflow import keras\n",
        "import matplotlib.pyplot as plt\n",
        "import numpy as np\n",
        "from tensorflow.keras.models import load_model\n",
        "from tensorflow.keras.activations import softmax"
      ],
      "metadata": {
        "id": "zAJdpzNhXaXf"
      },
      "execution_count": 17,
      "outputs": []
    },
    {
      "cell_type": "markdown",
      "source": [
        "Carregando o dataset"
      ],
      "metadata": {
        "id": "nzB1QzuIX0O0"
      }
    },
    {
      "cell_type": "code",
      "source": [
        "dataset = keras.datasets.fashion_mnist\n",
        "((imagens_treino, identificacoes_treino),(imagens_teste, identificacoes_teste)) = dataset.load_data()"
      ],
      "metadata": {
        "id": "jmQfxrFNXjjU"
      },
      "execution_count": 2,
      "outputs": []
    },
    {
      "cell_type": "markdown",
      "source": [
        "Exploração dos dados"
      ],
      "metadata": {
        "id": "4cnzZE7pX9HM"
      }
    },
    {
      "cell_type": "code",
      "source": [
        "len(imagens_treino)\n",
        "imagens_treino.shape\n",
        "imagens_teste.shape\n",
        "len(identificacoes_treino)\n",
        "len(identificacoes_teste)\n",
        "identificacoes_treino.min()\n",
        "identificacoes_treino.max()"
      ],
      "metadata": {
        "id": "mR5v0Ui2Xlgq"
      },
      "execution_count": null,
      "outputs": []
    },
    {
      "cell_type": "markdown",
      "source": [
        "Exibição os dados"
      ],
      "metadata": {
        "id": "YuzKaEHmYKFQ"
      }
    },
    {
      "cell_type": "code",
      "execution_count": null,
      "metadata": {
        "id": "FVTcyHzMFcMY"
      },
      "outputs": [],
      "source": [
        "total_de_classificacoes = 10\n",
        "nome_de_classificadores = ['Camiseta', 'Calça', 'Pullover', 'Vestido', 'Casaco', 'Sandália', 'Camisa', 'Tênis', 'Bolsa', 'Bota']\n",
        "\n",
        "'''\n",
        "plt.imshow(imagens_treino[0])\n",
        "plt.title(identificacoes_treino[0])\n",
        "\n",
        "for imagem in range(10):\n",
        "  plt.subplot(2, 5, imagem+1)\n",
        "  plt.imshow(imagens_treino[imagem])\n",
        "  plt.title(nome_de_classificadores[identificacoes_treino[imagem]])'''\n",
        "\n",
        "plt.imshow(imagens_treino[0])\n",
        "plt.colorbar()"
      ]
    },
    {
      "cell_type": "markdown",
      "source": [
        "Normalizando as imagens"
      ],
      "metadata": {
        "id": "j9aTjjoz6dRZ"
      }
    },
    {
      "cell_type": "code",
      "source": [
        "\n",
        "imagens_treino = imagens_treino / float(255)\n"
      ],
      "metadata": {
        "id": "CSCUtqVgLr5y"
      },
      "execution_count": null,
      "outputs": []
    },
    {
      "cell_type": "markdown",
      "source": [
        "Criando, compilando, treinando e normalizando o modelo"
      ],
      "metadata": {
        "id": "ZkZjmtNp6syK"
      }
    },
    {
      "cell_type": "code",
      "source": [
        "modelo = keras.Sequential([\n",
        "    keras.layers.Flatten(input_shape=(28, 28)),\n",
        "    keras.layers.Dense(256, activation=tensorflow.nn.relu),\n",
        "    keras.layers.Dropout(0.2),\n",
        "    keras.layers.Dense(10, activation=tensorflow.nn.softmax)\n",
        "])\n",
        "\n",
        "modelo.compile(optimizer='adam',\n",
        "               loss='sparse_categorical_crossentropy',\n",
        "               metrics=['accuracy'])\n",
        "\n",
        "historico = modelo.fit(imagens_treino, identificacoes_treino, epochs=5, validation_split=0.2)"
      ],
      "metadata": {
        "id": "xrjwvz4e6kzF"
      },
      "execution_count": null,
      "outputs": []
    },
    {
      "cell_type": "markdown",
      "source": [
        "Salvando e carregando o modelo treinado"
      ],
      "metadata": {
        "id": "ddrBE_mK7R6i"
      }
    },
    {
      "cell_type": "code",
      "source": [
        "modelo.save('modelo.h5')\n",
        "modelo_salvo = load_model('modelo.h5', custom_objects={'softmax_v2': softmax})"
      ],
      "metadata": {
        "id": "_kncKJuX4SwW"
      },
      "execution_count": null,
      "outputs": []
    },
    {
      "cell_type": "markdown",
      "source": [
        "Visualizando as acurácia de treino e validação por época"
      ],
      "metadata": {
        "id": "BnVeae5u7Ww_"
      }
    },
    {
      "cell_type": "code",
      "source": [
        "plt.plot(historico.history['accuracy'])\n",
        "plt.plot(historico.history['val_accuracy'])\n",
        "plt.title('Acurácia por épocas')\n",
        "plt.xlabel('Época')\n",
        "plt.ylabel('Acurácia')\n",
        "plt.legend(['Treino', 'Validação'])"
      ],
      "metadata": {
        "id": "uyzxTX_d0TUF"
      },
      "execution_count": null,
      "outputs": []
    },
    {
      "cell_type": "markdown",
      "source": [
        "Visualizando as perdas de treino e validação por época"
      ],
      "metadata": {
        "id": "dKlniTrz7lKN"
      }
    },
    {
      "cell_type": "code",
      "source": [
        "plt.plot(historico.history['loss'])\n",
        "plt.plot(historico.history['val_loss'])\n",
        "plt.title('Perda por épocas')\n",
        "plt.xlabel('Época')\n",
        "plt.ylabel('Perda')\n",
        "plt.legend(['Treino', 'Validação'])"
      ],
      "metadata": {
        "id": "ve6XAtI-1dFy"
      },
      "execution_count": null,
      "outputs": []
    },
    {
      "cell_type": "markdown",
      "source": [
        "Testando o modelo e o modelo salvo"
      ],
      "metadata": {
        "id": "zBEbgAgz7uFm"
      }
    },
    {
      "cell_type": "code",
      "source": [
        "testes = modelo.predict(imagens_teste)\n",
        "print('resultado teste: ', np.argmax(testes[1]))\n",
        "print('número da imagem de teste: ', identificacoes_teste[1])\n",
        "\n",
        "testes_modelo_salvo = modelo_salvo.predict(imagens_teste)\n",
        "print('resultado teste: ', np.argmax(testes_modelo_salvo[1]))\n",
        "print('número da imagem de teste: ', identificacoes_teste[1])"
      ],
      "metadata": {
        "id": "U7tV8GjnpfmV"
      },
      "execution_count": null,
      "outputs": []
    },
    {
      "cell_type": "markdown",
      "source": [
        "Avaliando o modelo"
      ],
      "metadata": {
        "id": "hc0qwNwI70Bo"
      }
    },
    {
      "cell_type": "code",
      "source": [
        "perda_teste, acuracia_teste = modelo.evaluate(imagens_teste, identificacoes_teste)\n",
        "print('Perda do teste: ', perda_teste)\n",
        "print('Acurácia do teste: ', acuracia_teste)"
      ],
      "metadata": {
        "id": "jmUdohExxzpq"
      },
      "execution_count": null,
      "outputs": []
    }
  ]
}